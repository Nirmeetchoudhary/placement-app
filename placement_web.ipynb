{
  "nbformat": 4,
  "nbformat_minor": 0,
  "metadata": {
    "colab": {
      "provenance": []
    },
    "kernelspec": {
      "name": "python3",
      "display_name": "Python 3"
    },
    "language_info": {
      "name": "python"
    }
  },
  "cells": [
    {
      "cell_type": "code",
      "execution_count": 1,
      "metadata": {
        "colab": {
          "base_uri": "https://localhost:8080/"
        },
        "id": "8X6-OdUPvjKC",
        "outputId": "4b9db18d-f590-4883-9830-d56309953a87"
      },
      "outputs": [
        {
          "output_type": "stream",
          "name": "stdout",
          "text": [
            "   Unnamed: 0  cgpa     iq  placement\n",
            "0           0   6.8  123.0          1\n",
            "1           1   5.9  106.0          0\n",
            "2           2   5.3  121.0          0\n",
            "3           3   7.4  132.0          1\n",
            "4           4   5.8  142.0          0\n",
            "(100, 4)\n",
            "<class 'pandas.core.frame.DataFrame'>\n",
            "RangeIndex: 100 entries, 0 to 99\n",
            "Data columns (total 4 columns):\n",
            " #   Column      Non-Null Count  Dtype  \n",
            "---  ------      --------------  -----  \n",
            " 0   Unnamed: 0  100 non-null    int64  \n",
            " 1   cgpa        100 non-null    float64\n",
            " 2   iq          100 non-null    float64\n",
            " 3   placement   100 non-null    int64  \n",
            "dtypes: float64(2), int64(2)\n",
            "memory usage: 3.3 KB\n",
            "None\n"
          ]
        }
      ],
      "source": [
        "\n",
        "# Load the placement dataset\n",
        "import pandas as pd\n",
        "import numpy as np\n",
        "\n",
        "df = pd.read_csv('placement.csv')\n",
        "print(df.head())\n",
        "print(df.shape)\n",
        "print(df.info())"
      ]
    },
    {
      "cell_type": "code",
      "source": [
        "\n",
        "# Train a classification model using the placement data\n",
        "from sklearn.model_selection import train_test_split\n",
        "from sklearn.linear_model import LogisticRegression\n",
        "from sklearn.metrics import accuracy_score\n",
        "\n",
        "# Prepare features and target\n",
        "X = df[['cgpa', 'iq']]\n",
        "y = df['placement']\n",
        "\n",
        "# Train the model on all data\n",
        "model = LogisticRegression()\n",
        "model.fit(X, y)\n",
        "\n",
        "print('Model trained successfully')\n",
        "print('Training accuracy: ' + str(accuracy_score(y, model.predict(X))))"
      ],
      "metadata": {
        "colab": {
          "base_uri": "https://localhost:8080/"
        },
        "id": "adJasmvPv8D2",
        "outputId": "9444055c-78d6-469f-cdbc-549ae683906a"
      },
      "execution_count": 2,
      "outputs": [
        {
          "output_type": "stream",
          "name": "stdout",
          "text": [
            "Model trained successfully\n",
            "Training accuracy: 0.93\n"
          ]
        }
      ]
    },
    {
      "cell_type": "code",
      "source": [
        "\n",
        "# Your code had 'clf' but the model variable is 'model'\n",
        "# Here's the corrected version:\n",
        "\n",
        "cgpa_input = float(input(\"Enter the cgpa: \"))\n",
        "iq_input = float(input(\"Enter the iq: \"))\n",
        "\n",
        "# Create input array for prediction\n",
        "user_input = [[cgpa_input, iq_input]]\n",
        "\n",
        "# Make prediction\n",
        "placement_pred = model.predict(user_input)\n",
        "\n",
        "# Show result\n",
        "if placement_pred[0] == 1:\n",
        "    print('Predicted Placement: 1 (placed)')\n",
        "else:\n",
        "    print('Predicted Placement: 0 (not placed)')"
      ],
      "metadata": {
        "colab": {
          "base_uri": "https://localhost:8080/"
        },
        "id": "dbtKQDdawAGY",
        "outputId": "8c9c9e27-ecf5-4c6e-af20-5a01bd8c9e49"
      },
      "execution_count": 3,
      "outputs": [
        {
          "output_type": "stream",
          "name": "stdout",
          "text": [
            "Enter the cgpa: 5.6\n",
            "Enter the iq: 120\n",
            "Predicted Placement: 0 (not placed)\n"
          ]
        },
        {
          "output_type": "stream",
          "name": "stderr",
          "text": [
            "/usr/local/lib/python3.12/dist-packages/sklearn/utils/validation.py:2739: UserWarning: X does not have valid feature names, but LogisticRegression was fitted with feature names\n",
            "  warnings.warn(\n"
          ]
        }
      ]
    },
    {
      "cell_type": "code",
      "source": [
        "import pickle\n",
        "pickle.dump(model,open('model.pkl','wb'))"
      ],
      "metadata": {
        "id": "4VHnFKXfwy63"
      },
      "execution_count": 4,
      "outputs": []
    },
    {
      "cell_type": "code",
      "source": [],
      "metadata": {
        "id": "t0rFaA2lx5d3"
      },
      "execution_count": null,
      "outputs": []
    }
  ]
}